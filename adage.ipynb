{
 "cells": [
  {
   "cell_type": "code",
   "execution_count": 2,
   "metadata": {
    "collapsed": true
   },
   "outputs": [],
   "source": [
    "import adage\n",
    "from adage import adagetask"
   ]
  },
  {
   "cell_type": "code",
   "execution_count": 3,
   "metadata": {
    "collapsed": false
   },
   "outputs": [],
   "source": [
    "@adagetask\n",
    "def preparegrid(workdir):\n",
    "    #prepare run card\n",
    "    from string import Template\n",
    "    with open('input/run_card.templ') as f:\n",
    "        t = Template(f.read()).substitute(\n",
    "            gridpack = True,\n",
    "            nevents = 1,\n",
    "            seed = 1234,\n",
    "            sqrts_half = 40.0,\n",
    "            polbeam1 = 100,\n",
    "            polbeam2 = -100,\n",
    "        )\n",
    "        runcardfilename = '{}/run_card.dat'.format(workdir)\n",
    "        with open(runcardfilename,'w') as runcard:\n",
    "            runcard.write(t)\n",
    "            \n",
    "    #prepare steering file\n",
    "    steeringfilename = '{}/steer.dat'.format(workdir)\n",
    "    with open(steeringfilename,'w') as steeringfile:\n",
    "        steeringfile.write(\n",
    "'''\n",
    "import model sm\n",
    "generate e+ e- > mu+ mu-\n",
    "output {output}\n",
    "launch -n output\n",
    "{runcard}\n",
    "quit\n",
    "'''.format(\n",
    "        output = '{}/gridpack'.format(workdir),\n",
    "        runcard = runcardfilename,\n",
    "            )\n",
    "        )\n",
    "    import subprocess\n",
    "    subprocess.check_call(['mg5','-f',steeringfilename])\n",
    "    \n",
    "        "
   ]
  },
  {
   "cell_type": "code",
   "execution_count": 15,
   "metadata": {
    "collapsed": true
   },
   "outputs": [],
   "source": [
    "@adagetask\n",
    "def generate(workdir,genworkdir,seed,nevents):\n",
    "    os.makedirs(genworkdir)\n",
    "    gridpackfile = '{}/gridpack/output_gridpack.tar.gz'.format(workdir)\n",
    "    import tarfile\n",
    "    t = tarfile.open(gridpackfile)\n",
    "    t.extractall(path = genworkdir)\n",
    "    import subprocess\n",
    "    import shlex\n",
    "    subprocess.check_call(shlex.split('./run.sh {} {}'.format(nevents,seed)), cwd = genworkdir)"
   ]
  },
  {
   "cell_type": "code",
   "execution_count": 16,
   "metadata": {
    "collapsed": false
   },
   "outputs": [],
   "source": [
    "@adagetask\n",
    "def merge(workdir,genworkdirs):\n",
    "    infiles = ['{}/events.lhe.gz'.format(x) for x in genworkdirs]\n",
    "    import jsonlines\n",
    "    import pylhe\n",
    "    import gzip\n",
    "    outfile = '{}/merged.jsonl'.format(workdir)\n",
    "    with jsonlines.open(outfile,'w') as writer:\n",
    "        for f in infiles:\n",
    "            for e in pylhe.readLHE(gzip.open(f)):\n",
    "                writer.write(e)"
   ]
  },
  {
   "cell_type": "code",
   "execution_count": 26,
   "metadata": {
    "collapsed": true
   },
   "outputs": [],
   "source": [
    "workdir = 'workdir'\n",
    "\n",
    "import os\n",
    "import shutil\n",
    "if os.path.exists(workdir):\n",
    "    shutil.rmtree(workdir)\n",
    "\n",
    "seeds = [1,2,3,4]\n",
    "workflow = adage.adageobject()\n",
    "\n",
    "n_prepgrid = workflow.dag.addTask(preparegrid.s(workdir = workdir))\n",
    "\n",
    "evgen_nodes = []\n",
    "genworkdirs = []\n",
    "for i,x in enumerate(seeds):\n",
    "    genworkdir = '{}/gen_{}'.format(workdir,i)\n",
    "    genworkdirs.append(genworkdir)\n",
    "    evgen_nodes.append(\n",
    "        workflow.dag.addTask(generate.s(workdir = workdir, seed = x, genworkdir = genworkdir, nevents = 10000),\n",
    "                             depends_on = [n_prepgrid])\n",
    "    )\n",
    "\n",
    "n_merge = workflow.dag.addTask(merge.s(workdir = workdir,genworkdirs = genworkdirs), depends_on = evgen_nodes)"
   ]
  },
  {
   "cell_type": "code",
   "execution_count": 29,
   "metadata": {
    "collapsed": false
   },
   "outputs": [],
   "source": [
    "import adage.backends\n",
    "backend = adage.backends.MultiProcBackend(4)\n",
    "adage.rundag(workflow, default_trackers = True, workdir = workdir, backend = backend)"
   ]
  },
  {
   "cell_type": "code",
   "execution_count": 30,
   "metadata": {
    "collapsed": false
   },
   "outputs": [
    {
     "name": "stdout",
     "output_type": "stream",
     "text": [
      "Using matplotlib backend: Qt4Agg\n",
      "Populating the interactive namespace from numpy and matplotlib\n"
     ]
    },
    {
     "name": "stderr",
     "output_type": "stream",
     "text": [
      "WARNING: pylab import has clobbered these variables: ['e']\n",
      "`%matplotlib` prevents importing * from pylab and numpy\n"
     ]
    }
   ],
   "source": [
    "%pylab\n",
    "%matplotlib inline\n",
    "import jsonlines"
   ]
  },
  {
   "cell_type": "code",
   "execution_count": 31,
   "metadata": {
    "collapsed": false
   },
   "outputs": [],
   "source": [
    "inputfile = '{}/merged.jsonl'.format(workdir)\n",
    "costhetas = []\n",
    "for i,e in enumerate(jsonlines.Reader(open(inputfile))):\n",
    "    els = [p for p in e['particles'] if p['id'] == 11]\n",
    "    mus = [p for p in e['particles'] if p['id'] == 13]\n",
    "    assert len(mus) == 1\n",
    "    assert len(els) == 1\n",
    "    mu = mus[0]\n",
    "    el = els[0]\n",
    "    el_px, el_py, el_pz = [el[x] for x in ['px','py','pz']]\n",
    "    mu_px, mu_py, mu_pz = [mu[x] for x in ['px','py','pz']]\n",
    "    costheta = mu_pz/el_pz\n",
    "    costhetas.append(costheta)"
   ]
  },
  {
   "cell_type": "code",
   "execution_count": 32,
   "metadata": {
    "collapsed": false
   },
   "outputs": [
    {
     "data": {
      "image/png": "[encoded data removed]",
      "text/plain": [
       "<matplotlib.figure.Figure at 0x7f529a843950>"
      ]
     },
     "metadata": {},
     "output_type": "display_data"
    }
   ],
   "source": [
    "_,_,_ = plt.hist(costhetas, bins = 100, histtype='stepfilled')"
   ]
  },
  {
   "cell_type": "code",
   "execution_count": null,
   "metadata": {
    "collapsed": true
   },
   "outputs": [],
   "source": []
  }
 ],
 "metadata": {
  "kernelspec": {
   "display_name": "Python 2",
   "language": "python",
   "name": "python2"
  },
  "language_info": {
   "codemirror_mode": {
    "name": "ipython",
    "version": 2
   },
   "file_extension": ".py",
   "mimetype": "text/x-python",
   "name": "python",
   "nbconvert_exporter": "python",
   "pygments_lexer": "ipython2",
   "version": "2.7.11"
  }
 },
 "nbformat": 4,
 "nbformat_minor": 0
}
