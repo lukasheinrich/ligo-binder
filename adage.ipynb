{
 "cells": [
  {
   "cell_type": "code",
   "execution_count": 3,
   "metadata": {
    "collapsed": false
   },
   "outputs": [
    {
     "data": {
      "application/javascript": [
       "require.config({paths: {\n",
       "        vis: \"http://cdnjs.cloudflare.com/ajax/libs/vis/4.17.0/vis\",\n",
       "        yadage: \"https://rawgit.com/lukasheinrich/yadage-ipython/master/yadagealpha\"\n",
       "    }\n",
       "});"
      ],
      "text/plain": [
       "<IPython.core.display.Javascript object>"
      ]
     },
     "metadata": {},
     "output_type": "display_data"
    }
   ],
   "source": [
    "%%javascript\n",
    "require.config({paths: {\n",
    "        vis: \"http://cdnjs.cloudflare.com/ajax/libs/vis/4.17.0/vis\",\n",
    "        yadage: \"https://rawgit.com/lukasheinrich/yadage-ipython/master/yadagealpha\"\n",
    "    }\n",
    "});"
   ]
  },
  {
   "cell_type": "code",
   "execution_count": 4,
   "metadata": {
    "collapsed": false
   },
   "outputs": [],
   "source": [
    "import yadage_widget\n",
    "import adage\n",
    "import adage.backends\n",
    "import psutil\n",
    "from hepworkflow import setup_workflow"
   ]
  },
  {
   "cell_type": "code",
   "execution_count": 5,
   "metadata": {
    "collapsed": false
   },
   "outputs": [],
   "source": [
    "workdir = 'workdir'\n",
    "workflow = setup_workflow(workdir = workdir, nevents = 40000, beamenergy = 40.0)\n",
    "ui = yadage_widget.WorkflowWidget(workflow)\n",
    "ui"
   ]
  },
  {
   "cell_type": "code",
   "execution_count": 6,
   "metadata": {
    "collapsed": false
   },
   "outputs": [],
   "source": [
    "backend = adage.backends.MultiProcBackend(psutil.cpu_count())\n",
    "adage.rundag(workflow,\n",
    "             update_interval = 3,\n",
    "             default_trackers = False,\n",
    "             additional_trackers=[ui.adagetracker],\n",
    "             backend = backend)"
   ]
  },
  {
   "cell_type": "code",
   "execution_count": 10,
   "metadata": {
    "collapsed": false
   },
   "outputs": [
    {
     "name": "stdout",
     "output_type": "stream",
     "text": [
      "Using matplotlib backend: Qt4Agg\n",
      "Populating the interactive namespace from numpy and matplotlib\n"
     ]
    },
    {
     "name": "stderr",
     "output_type": "stream",
     "text": [
      "/home/main/anaconda2/lib/python2.7/site-packages/IPython/core/magics/pylab.py:161: UserWarning: pylab import has clobbered these variables: ['e']\n",
      "`%matplotlib` prevents importing * from pylab and numpy\n",
      "  \"\\n`%matplotlib` prevents importing * from pylab and numpy\"\n"
     ]
    }
   ],
   "source": [
    "%pylab\n",
    "%matplotlib inline\n",
    "import jsonlines"
   ]
  },
  {
   "cell_type": "code",
   "execution_count": 11,
   "metadata": {
    "collapsed": false
   },
   "outputs": [],
   "source": [
    "inputfile = '{}/merged.jsonl'.format(workdir)\n",
    "costhetas = []\n",
    "for i,e in enumerate(jsonlines.Reader(open(inputfile))):\n",
    "    els = [p for p in e['particles'] if p['id'] == 11]\n",
    "    mus = [p for p in e['particles'] if p['id'] == 13]\n",
    "    assert len(mus) == 1\n",
    "    assert len(els) == 1\n",
    "    mu = mus[0]\n",
    "    el = els[0]\n",
    "    el_px, el_py, el_pz = [el[x] for x in ['px','py','pz']]\n",
    "    mu_px, mu_py, mu_pz = [mu[x] for x in ['px','py','pz']]\n",
    "    costheta = mu_pz/el_pz\n",
    "    costhetas.append(costheta)"
   ]
  },
  {
   "cell_type": "code",
   "execution_count": 12,
   "metadata": {
    "collapsed": false
   },
   "outputs": [
    {
     "data": {
      "image/png": "[encoded data removed]",
      "text/plain": [
       "<matplotlib.figure.Figure at 0x7f8adf4c9d50>"
      ]
     },
     "metadata": {},
     "output_type": "display_data"
    }
   ],
   "source": [
    "_,_,_ = plt.hist(costhetas, bins = 100, histtype='stepfilled')"
   ]
  },
  {
   "cell_type": "code",
   "execution_count": null,
   "metadata": {
    "collapsed": true
   },
   "outputs": [],
   "source": []
  }
 ],
 "metadata": {
  "kernelspec": {
   "display_name": "Python 2",
   "language": "python",
   "name": "python2"
  },
  "language_info": {
   "codemirror_mode": {
    "name": "ipython",
    "version": 2
   },
   "file_extension": ".py",
   "mimetype": "text/x-python",
   "name": "python",
   "nbconvert_exporter": "python",
   "pygments_lexer": "ipython2",
   "version": "2.7.11"
  },
  "widgets": {
   "state": {
    "c90b3846b7534d84b35bd5a4b28ea656": {
     "views": [
      {
       "cell_index": 2
      }
     ]
    }
   },
   "version": "1.2.0"
  }
 },
 "nbformat": 4,
 "nbformat_minor": 0
}
