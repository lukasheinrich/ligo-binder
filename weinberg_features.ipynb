{
 "cells": [
  {
   "cell_type": "code",
   "execution_count": 1,
   "metadata": {
    "collapsed": false
   },
   "outputs": [
    {
     "name": "stderr",
     "output_type": "stream",
     "text": [
      "/home/main/anaconda2/lib/python2.7/site-packages/matplotlib/font_manager.py:273: UserWarning: Matplotlib is building the font cache using fc-list. This may take a moment.\n",
      "  warnings.warn('Matplotlib is building the font cache using fc-list. This may take a moment.')\n"
     ]
    },
    {
     "name": "stdout",
     "output_type": "stream",
     "text": [
      "Using matplotlib backend: Qt4Agg\n",
      "Populating the interactive namespace from numpy and matplotlib\n"
     ]
    }
   ],
   "source": [
    "%pylab\n",
    "%matplotlib inline"
   ]
  },
  {
   "cell_type": "code",
   "execution_count": 2,
   "metadata": {
    "collapsed": true
   },
   "outputs": [],
   "source": [
    "from string import Template\n",
    "import tempfile\n",
    "import shutil\n",
    "import os\n",
    "import pylhe\n",
    "import gzip\n",
    "import sys\n",
    "import json\n",
    "import matplotlib.pyplot as plt\n",
    "import numpy as np\n",
    "import matplotlib\n",
    "import math\n",
    "import numpy as np"
   ]
  },
  {
   "cell_type": "code",
   "execution_count": 7,
   "metadata": {
    "collapsed": false
   },
   "outputs": [],
   "source": [
    "inputdir = 'inputdir'\n",
    "workdir = 'workdir'\n",
    "for x in [inputdir,workdir]:\n",
    "    if os.path.exists(x):\n",
    "        shutil.rmtree(x)\n",
    "\n",
    "import urllib2\n",
    "from StringIO import StringIO\n",
    "inputfile = StringIO(urllib2.urlopen(\n",
    "                'https://github.com/lukasheinrich/weinberg-exp/raw/master/example_yadage/input.zip'\n",
    "            ).read())\n",
    "import zipfile\n",
    "zipfile.ZipFile(inputfile).extractall(path = inputdir)"
   ]
  },
  {
   "cell_type": "code",
   "execution_count": 8,
   "metadata": {
    "collapsed": false
   },
   "outputs": [
    {
     "name": "stdout",
     "output_type": "stream",
     "text": [
      "proc_card_ppee.dat  run_card.templ  sm_proc_card.templ\r\n"
     ]
    }
   ],
   "source": [
    "!ls inputdir"
   ]
  },
  {
   "cell_type": "code",
   "execution_count": 9,
   "metadata": {
    "collapsed": false
   },
   "outputs": [
    {
     "data": {
      "text/plain": [
       "'/tmp/tmpAPCrcp'"
      ]
     },
     "execution_count": 9,
     "metadata": {},
     "output_type": "execute_result"
    }
   ],
   "source": [
    "runcardtemp = tempfile.NamedTemporaryFile()\n",
    "runcardtemp.write(\n",
    "    Template(open('{}/run_card.templ'.format(inputdir)).read()).substitute(\n",
    "                __SQRTSHLF__ = 45.0,\n",
    "                __POLBEAM1__ = 0,\n",
    "                __POLBEAM2__ = 0\n",
    "            )\n",
    ")\n",
    "runcardtemp.name"
   ]
  },
  {
   "cell_type": "code",
   "execution_count": 11,
   "metadata": {
    "collapsed": false
   },
   "outputs": [
    {
     "data": {
      "text/plain": [
       "'madgraph.run'"
      ]
     },
     "execution_count": 11,
     "metadata": {},
     "output_type": "execute_result"
    }
   ],
   "source": [
    "contents = '''\n",
    "{process}\n",
    "output {workdir}\n",
    "launch -n output\n",
    "{runcard}\n",
    "set nevents {nevents}\n",
    "quit\n",
    "'''.format(\n",
    "    process = Template(open('{}/sm_proc_card.templ'.format(inputdir)).read()).substitute(\n",
    "                __PROCESS__ = 'e+ e- > mu+ mu-',\n",
    "                __OUTPUT__ = workdir\n",
    "            ),\n",
    "    workdir = workdir,\n",
    "    runcard = runcardtemp.name,\n",
    "    nevents = 10000\n",
    ")\n",
    "\n",
    "with open('madgraph.run','w') as steering_file:\n",
    "    steering_file.write(contents)\n",
    "steering_file.name"
   ]
  },
  {
   "cell_type": "code",
   "execution_count": 12,
   "metadata": {
    "collapsed": false
   },
   "outputs": [
    {
     "data": {
      "text/plain": [
       "0"
      ]
     },
     "execution_count": 12,
     "metadata": {},
     "output_type": "execute_result"
    }
   ],
   "source": [
    "import shlex\n",
    "import subprocess\n",
    "subprocess.check_call(shlex.split('mg5 -f {}'.format(steering_file.name)))"
   ]
  },
  {
   "cell_type": "code",
   "execution_count": 13,
   "metadata": {
    "collapsed": false
   },
   "outputs": [],
   "source": [
    "costhetas = []\n",
    "for i,e in enumerate(pylhe.readLHE(gzip.open('{}/Events/output/unweighted_events.lhe.gz'.format(workdir)))):\n",
    "    els = [p for p in e['particles'] if p['id'] == 11]\n",
    "    mus = [p for p in e['particles'] if p['id'] == 13]\n",
    "    assert len(mus) == 1\n",
    "    assert len(els) == 1\n",
    "    mu = mus[0]\n",
    "    el = els[0]\n",
    "    el_px, el_py, el_pz = [el[x] for x in ['px','py','pz']]\n",
    "    mu_px, mu_py, mu_pz = [mu[x] for x in ['px','py','pz']]\n",
    "    costheta = mu_pz/el_pz\n",
    "    costhetas.append(costheta)"
   ]
  },
  {
   "cell_type": "code",
   "execution_count": 14,
   "metadata": {
    "collapsed": false
   },
   "outputs": [
    {
     "data": {
      "image/png": "[encoded data removed]",
      "text/plain": [
       "<matplotlib.figure.Figure at 0x7f783930e9d0>"
      ]
     },
     "metadata": {},
     "output_type": "display_data"
    }
   ],
   "source": [
    "_,_,_ = plt.hist(costhetas, bins = 25, histtype='stepfilled')\n"
   ]
  },
  {
   "cell_type": "code",
   "execution_count": null,
   "metadata": {
    "collapsed": true
   },
   "outputs": [],
   "source": []
  }
 ],
 "metadata": {
  "kernelspec": {
   "display_name": "Python 2",
   "language": "python",
   "name": "python2"
  },
  "language_info": {
   "codemirror_mode": {
    "name": "ipython",
    "version": 2
   },
   "file_extension": ".py",
   "mimetype": "text/x-python",
   "name": "python",
   "nbconvert_exporter": "python",
   "pygments_lexer": "ipython2",
   "version": "2.7.11"
  }
 },
 "nbformat": 4,
 "nbformat_minor": 0
}
